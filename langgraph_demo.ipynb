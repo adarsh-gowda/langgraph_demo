{
 "cells": [
  {
   "cell_type": "code",
   "execution_count": 27,
   "id": "7edd8e49",
   "metadata": {},
   "outputs": [
    {
     "name": "stdout",
     "output_type": "stream",
     "text": [
      "All done\n"
     ]
    }
   ],
   "source": [
    "print(\"All done\")"
   ]
  },
  {
   "cell_type": "code",
   "execution_count": 28,
   "id": "1fa67ece",
   "metadata": {},
   "outputs": [],
   "source": [
    "from langgraph.graph import Graph"
   ]
  },
  {
   "cell_type": "code",
   "execution_count": 29,
   "id": "51507b48",
   "metadata": {},
   "outputs": [],
   "source": [
    "from langchain_groq import ChatGroq"
   ]
  },
  {
   "cell_type": "code",
   "execution_count": 30,
   "id": "7d028e98",
   "metadata": {},
   "outputs": [],
   "source": [
    "llm=ChatGroq(model='llama3-70b-8192')"
   ]
  },
  {
   "cell_type": "code",
   "execution_count": 31,
   "id": "e0cd123a",
   "metadata": {},
   "outputs": [
    {
     "data": {
      "text/plain": [
       "'The capital of France is Paris.'"
      ]
     },
     "execution_count": 31,
     "metadata": {},
     "output_type": "execute_result"
    }
   ],
   "source": [
    "llm.invoke('what is the capital of France?').content"
   ]
  },
  {
   "cell_type": "code",
   "execution_count": 55,
   "id": "5f74f469",
   "metadata": {},
   "outputs": [],
   "source": [
    "def function1(input) :\n",
    "    llm=ChatGroq(model='llama3-70b-8192')\n",
    "    response = llm.invoke(input).content\n",
    "    return response"
   ]
  },
  {
   "cell_type": "code",
   "execution_count": 56,
   "id": "d271955c",
   "metadata": {},
   "outputs": [
    {
     "data": {
      "text/plain": [
       "\"Hi! It's nice to meet you. Is there something I can help you with or would you like to chat?\""
      ]
     },
     "execution_count": 56,
     "metadata": {},
     "output_type": "execute_result"
    }
   ],
   "source": [
    "function1('hi')"
   ]
  },
  {
   "cell_type": "code",
   "execution_count": 57,
   "id": "7e782c90",
   "metadata": {},
   "outputs": [],
   "source": [
    "def function2(input):\n",
    "    upper_string = input.upper()\n",
    "    return upper_string\n"
   ]
  },
  {
   "cell_type": "code",
   "execution_count": 58,
   "id": "c782f3c7",
   "metadata": {},
   "outputs": [],
   "source": [
    "workflow=Graph()"
   ]
  },
  {
   "cell_type": "code",
   "execution_count": 59,
   "id": "bd7e2dd5",
   "metadata": {},
   "outputs": [
    {
     "data": {
      "text/plain": [
       "<langgraph.graph.graph.Graph at 0x1b5e0625c40>"
      ]
     },
     "execution_count": 59,
     "metadata": {},
     "output_type": "execute_result"
    }
   ],
   "source": [
    "workflow.add_node(\"llm\", function1)\n",
    "workflow.add_node(\"upperstring\", function2)\n"
   ]
  },
  {
   "cell_type": "code",
   "execution_count": 60,
   "id": "4a99c178",
   "metadata": {},
   "outputs": [
    {
     "data": {
      "text/plain": [
       "<langgraph.graph.graph.Graph at 0x1b5e0625c40>"
      ]
     },
     "execution_count": 60,
     "metadata": {},
     "output_type": "execute_result"
    }
   ],
   "source": [
    "workflow.add_edge(\"llm\", \"upperstring\")\n"
   ]
  },
  {
   "cell_type": "code",
   "execution_count": 61,
   "id": "5604b47a",
   "metadata": {},
   "outputs": [
    {
     "data": {
      "text/plain": [
       "<langgraph.graph.graph.Graph at 0x1b5e0625c40>"
      ]
     },
     "execution_count": 61,
     "metadata": {},
     "output_type": "execute_result"
    }
   ],
   "source": [
    "workflow.set_entry_point(\"llm\")"
   ]
  },
  {
   "cell_type": "code",
   "execution_count": 62,
   "id": "0e421a1b",
   "metadata": {},
   "outputs": [
    {
     "data": {
      "text/plain": [
       "<langgraph.graph.graph.Graph at 0x1b5e0625c40>"
      ]
     },
     "execution_count": 62,
     "metadata": {},
     "output_type": "execute_result"
    }
   ],
   "source": [
    "workflow.set_finish_point(\"upperstring\")"
   ]
  },
  {
   "cell_type": "code",
   "execution_count": 63,
   "id": "315cbc61",
   "metadata": {},
   "outputs": [],
   "source": [
    "app = workflow.compile()\n"
   ]
  },
  {
   "cell_type": "markdown",
   "id": "cc6b7141",
   "metadata": {},
   "source": []
  },
  {
   "cell_type": "code",
   "execution_count": 64,
   "id": "15a9cd85",
   "metadata": {},
   "outputs": [
    {
     "data": {
      "image/png": "[encoded data removed]",
      "text/plain": [
       "<IPython.core.display.Image object>"
      ]
     },
     "metadata": {},
     "output_type": "display_data"
    }
   ],
   "source": [
    "from IPython.display import display, Image\n",
    "\n",
    "try:\n",
    "    display(Image(app.get_graph().draw_mermaid_png()))\n",
    "\n",
    "except Exception as e:\n",
    "    print(\"Error displaying graph:\", e)"
   ]
  },
  {
   "cell_type": "code",
   "execution_count": 66,
   "id": "ed5376a1",
   "metadata": {},
   "outputs": [
    {
     "data": {
      "text/plain": [
       "'I THINK THERE MAY BE SOME CONFUSION HERE!\\n\\nVIRAT KOHLI, THE INDIAN CRICKETER, HAS NOT RETIRED FROM TEST CRICKET OR ANY FORM OF CRICKET FOR THAT MATTER. HE IS STILL AN ACTIVE PLAYER AND CONTINUES TO PLAY FOR THE INDIAN NATIONAL TEAM IN ALL FORMATS OF THE GAME, INCLUDING TEST MATCHES.\\n\\nIN FACT, VIRAT KOHLI IS ONE OF THE MOST SUCCESSFUL BATSMEN IN INTERNATIONAL CRICKET, WITH A STRONG RECORD IN ALL FORMATS OF THE GAME. HE HAS BEEN THE CAPTAIN OF THE INDIAN TEAM IN TEST CRICKET AND HAS LED THE TEAM TO SEVERAL VICTORIES.\\n\\nSO, TO ANSWER YOUR QUESTION, VIRAT KOHLI HAS NOT RETIRED FROM TEST CRICKET OR ANY OTHER FORM OF CRICKET.'"
      ]
     },
     "execution_count": 66,
     "metadata": {},
     "output_type": "execute_result"
    }
   ],
   "source": [
    "app.invoke(\"when virat kohli retired from trst cricket\")"
   ]
  },
  {
   "cell_type": "code",
   "execution_count": null,
   "id": "5a89ccfc",
   "metadata": {},
   "outputs": [],
   "source": []
  }
 ],
 "metadata": {
  "kernelspec": {
   "display_name": "Python 3",
   "language": "python",
   "name": "python3"
  },
  "language_info": {
   "codemirror_mode": {
    "name": "ipython",
    "version": 3
   },
   "file_extension": ".py",
   "mimetype": "text/x-python",
   "name": "python",
   "nbconvert_exporter": "python",
   "pygments_lexer": "ipython3",
   "version": "3.12.9"
  }
 },
 "nbformat": 4,
 "nbformat_minor": 5
}
