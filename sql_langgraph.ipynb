{
 "cells": [
  {
   "cell_type": "code",
   "execution_count": 1,
   "id": "d601b469",
   "metadata": {},
   "outputs": [],
   "source": [
    "import sqlite3"
   ]
  },
  {
   "cell_type": "code",
   "execution_count": 2,
   "id": "846479c6",
   "metadata": {},
   "outputs": [],
   "source": [
    "connection=sqlite3.connect(\"mydb.db\")"
   ]
  },
  {
   "cell_type": "code",
   "execution_count": 3,
   "id": "e61086d3",
   "metadata": {},
   "outputs": [
    {
     "data": {
      "text/plain": [
       "<sqlite3.Connection at 0x127526aeb60>"
      ]
     },
     "execution_count": 3,
     "metadata": {},
     "output_type": "execute_result"
    }
   ],
   "source": [
    "connection"
   ]
  },
  {
   "cell_type": "code",
   "execution_count": 4,
   "id": "f1794e21",
   "metadata": {},
   "outputs": [],
   "source": [
    "table_create_query = \"\"\"\n",
    "create table if not exists employee (\n",
    "employee_id integer primary key autoincrement,\n",
    "first_name text not null,\n",
    "last_name text not null,\n",
    "email text not null unique,\n",
    "phone text not null unique,\n",
    "salary real not null,\n",
    "hire_date text not null\n",
    ")\n",
    "\"\"\""
   ]
  },
  {
   "cell_type": "code",
   "execution_count": 5,
   "id": "acd0b9b5",
   "metadata": {},
   "outputs": [],
   "source": [
    "table_create_query2 = \"\"\"\n",
    "create table if not exists customers (\n",
    "customer_id integer primary key autoincrement,\n",
    "first_name text not null,\n",
    "last_name text not null,\n",
    "email text not null unique,\n",
    "phone text not null unique\n",
    ")\n",
    "\"\"\""
   ]
  },
  {
   "cell_type": "code",
   "execution_count": 6,
   "id": "1d0d8b12",
   "metadata": {},
   "outputs": [],
   "source": [
    "table_create_query3 = \"\"\"\n",
    "create table if not exists orders (\n",
    "order_id integer primary key autoincrement,\n",
    "customer_id integer not null,\n",
    "order_date text not null,\n",
    "amount real not null,\n",
    "foreign key (customer_id) references customers(customer_id)\n",
    ")\n",
    "\"\"\""
   ]
  },
  {
   "cell_type": "code",
   "execution_count": 7,
   "id": "4eaaeea1",
   "metadata": {},
   "outputs": [],
   "source": [
    "cursor=connection.cursor()"
   ]
  },
  {
   "cell_type": "code",
   "execution_count": 8,
   "id": "562025f6",
   "metadata": {},
   "outputs": [
    {
     "data": {
      "text/plain": [
       "<sqlite3.Cursor at 0x127528cc940>"
      ]
     },
     "execution_count": 8,
     "metadata": {},
     "output_type": "execute_result"
    }
   ],
   "source": [
    "cursor.execute(table_create_query)\n",
    "cursor.execute(table_create_query2)\n",
    "cursor.execute(table_create_query3)"
   ]
  },
  {
   "cell_type": "code",
   "execution_count": 9,
   "id": "84fd7af3",
   "metadata": {},
   "outputs": [],
   "source": [
    "insert_employee_query = \"\"\"\n",
    "insert into employee (first_name, last_name, email, phone, salary, hire_date) values (?, ?, ?, ?, ?, ?)\n",
    "\"\"\"\n",
    "\n",
    "insert_customer_query = \"\"\"\n",
    "insert into customers (first_name, last_name, email, phone) values (?, ?, ?, ?)\n",
    "\"\"\"\n",
    "insert_order_query = \"\"\"\n",
    "insert into orders (order_id, customer_id, order_date, amount) values (?, ?, ?, ?)\n",
    "\"\"\""
   ]
  },
  {
   "cell_type": "code",
   "execution_count": 10,
   "id": "8cba33b7",
   "metadata": {},
   "outputs": [],
   "source": [
    "employee_data = [\n",
    "    ('adarsh', 'cv', 'adarsh.cv@example.com', '123-456-7890', 60000, '2020-01-15'),\n",
    "    ('mithun', 'm', 'mithun.m@example.com', '987-654-3210', 75000, '2019-03-22'),\n",
    "    ('darshan', 'naik', 'darshan.n@example.com', '555-123-4567', 80000, '2021-07-30'),\n",
    "    ('kumar', 'gowda', 'kumar.g@example.com', '444-987-6543', 50000, '2022-11-05')\n",
    "]\n",
    "\n",
    "customer_data = [\n",
    "    ('JOHN', 'DOE', 'john.doe@example.com', '123-456-7890'),\n",
    "    ('JANE', 'SMITH', 'jane.smith@example.com', '987-654-3210'),\n",
    "    ('ALICE', 'JOHNSON', 'alice.johnson@example.com', '555-123-4567'),\n",
    "    ('BOB', 'BROWN', 'bob.brown@example.com', '444-987-6543')\n",
    "]\n",
    "order_data = [\n",
    "    (1, 1, '2023-01-01', 100.50),\n",
    "    (2, 2, '2023-02-15', 200.75),\n",
    "    (3, 3, '2023-03-10', 150.00),\n",
    "    (4, 4, '2023-04-20', 300.25)\n",
    "]"
   ]
  },
  {
   "cell_type": "code",
   "execution_count": 11,
   "id": "5f9f5f8d",
   "metadata": {},
   "outputs": [
    {
     "data": {
      "text/plain": [
       "<sqlite3.Cursor at 0x127528cc940>"
      ]
     },
     "execution_count": 11,
     "metadata": {},
     "output_type": "execute_result"
    }
   ],
   "source": [
    "cursor.executemany(insert_employee_query, employee_data)\n",
    "cursor.executemany(insert_customer_query, customer_data)\n",
    "cursor.executemany(insert_order_query, order_data)"
   ]
  },
  {
   "cell_type": "code",
   "execution_count": 12,
   "id": "f94da2ca",
   "metadata": {},
   "outputs": [],
   "source": [
    "connection.commit()"
   ]
  },
  {
   "cell_type": "code",
   "execution_count": 26,
   "id": "f4f77332",
   "metadata": {},
   "outputs": [
    {
     "name": "stdout",
     "output_type": "stream",
     "text": [
      "(1, 1, '2023-01-01', 100.5)\n",
      "(2, 2, '2023-02-15', 200.75)\n",
      "(3, 3, '2023-03-10', 150.0)\n",
      "(4, 4, '2023-04-20', 300.25)\n"
     ]
    }
   ],
   "source": [
    "cursor.execute(\"select * from orders;\")\n",
    "for row in cursor.fetchall():\n",
    "    print(row)"
   ]
  },
  {
   "cell_type": "code",
   "execution_count": 28,
   "id": "f7895309",
   "metadata": {},
   "outputs": [],
   "source": [
    "from langchain_community.utilities import SQLDatabase\n",
    "db = SQLDatabase.from_uri(\"sqlite:///mydb.db\")"
   ]
  },
  {
   "cell_type": "code",
   "execution_count": 30,
   "id": "c5cdc02a",
   "metadata": {},
   "outputs": [
    {
     "data": {
      "text/plain": [
       "<langchain_community.utilities.sql_database.SQLDatabase at 0x1275345e720>"
      ]
     },
     "execution_count": 30,
     "metadata": {},
     "output_type": "execute_result"
    }
   ],
   "source": [
    "db"
   ]
  },
  {
   "cell_type": "code",
   "execution_count": 31,
   "id": "5c3f277b",
   "metadata": {},
   "outputs": [
    {
     "data": {
      "text/plain": [
       "'sqlite'"
      ]
     },
     "execution_count": 31,
     "metadata": {},
     "output_type": "execute_result"
    }
   ],
   "source": [
    "db.dialect"
   ]
  },
  {
   "cell_type": "code",
   "execution_count": 32,
   "id": "11cdbee9",
   "metadata": {},
   "outputs": [
    {
     "data": {
      "text/plain": [
       "['customers', 'employee', 'orders']"
      ]
     },
     "execution_count": 32,
     "metadata": {},
     "output_type": "execute_result"
    }
   ],
   "source": [
    "db.get_usable_table_names()"
   ]
  },
  {
   "cell_type": "code",
   "execution_count": 39,
   "id": "1cc78a19",
   "metadata": {},
   "outputs": [],
   "source": [
    "from langchain_groq import ChatGroq\n",
    "llm = ChatGroq(model=\"llama3-70b-8192\")"
   ]
  },
  {
   "cell_type": "code",
   "execution_count": 40,
   "id": "58624847",
   "metadata": {},
   "outputs": [
    {
     "data": {
      "text/plain": [
       "AIMessage(content=\"I'm just a language model, I don't have feelings or emotions like humans do. I exist solely to process and respond to text-based input, so I don't have good or bad days or feelings like happiness or sadness. I'm simply here to provide information and assist with tasks to the best of my abilities!\", additional_kwargs={}, response_metadata={'token_usage': {'completion_tokens': 65, 'prompt_tokens': 14, 'total_tokens': 79, 'completion_time': 0.185714286, 'prompt_time': 0.000173467, 'queue_time': 0.053779593, 'total_time': 0.185887753}, 'model_name': 'llama3-70b-8192', 'system_fingerprint': 'fp_dd4ae1c591', 'finish_reason': 'stop', 'logprobs': None}, id='run--3b364162-c7a3-4a41-a96d-651a8b8c86df-0', usage_metadata={'input_tokens': 14, 'output_tokens': 65, 'total_tokens': 79})"
      ]
     },
     "execution_count": 40,
     "metadata": {},
     "output_type": "execute_result"
    }
   ],
   "source": [
    "llm.invoke(\"How are YOU?\")"
   ]
  },
  {
   "cell_type": "code",
   "execution_count": 41,
   "id": "61a6f4cc",
   "metadata": {},
   "outputs": [],
   "source": [
    "from langchain_community.agent_toolkits import SQLDatabaseToolkit"
   ]
  },
  {
   "cell_type": "code",
   "execution_count": 43,
   "id": "e1e959e9",
   "metadata": {},
   "outputs": [],
   "source": [
    "toolkit=SQLDatabaseToolkit(db=db, llm=llm)"
   ]
  },
  {
   "cell_type": "code",
   "execution_count": 44,
   "id": "8a151e66",
   "metadata": {},
   "outputs": [
    {
     "data": {
      "text/plain": [
       "[QuerySQLDatabaseTool(description=\"Input to this tool is a detailed and correct SQL query, output is a result from the database. If the query is not correct, an error message will be returned. If an error is returned, rewrite the query, check the query, and try again. If you encounter an issue with Unknown column 'xxxx' in 'field list', use sql_db_schema to query the correct table fields.\", db=<langchain_community.utilities.sql_database.SQLDatabase object at 0x000001275345E720>),\n",
       " InfoSQLDatabaseTool(description='Input to this tool is a comma-separated list of tables, output is the schema and sample rows for those tables. Be sure that the tables actually exist by calling sql_db_list_tables first! Example Input: table1, table2, table3', db=<langchain_community.utilities.sql_database.SQLDatabase object at 0x000001275345E720>),\n",
       " ListSQLDatabaseTool(db=<langchain_community.utilities.sql_database.SQLDatabase object at 0x000001275345E720>),\n",
       " QuerySQLCheckerTool(description='Use this tool to double check if your query is correct before executing it. Always use this tool before executing a query with sql_db_query!', db=<langchain_community.utilities.sql_database.SQLDatabase object at 0x000001275345E720>, llm=ChatGroq(client=<groq.resources.chat.completions.Completions object at 0x0000012753A38440>, async_client=<groq.resources.chat.completions.AsyncCompletions object at 0x00000127562F06E0>, model_name='llama3-70b-8192', model_kwargs={}, groq_api_key=SecretStr('**********')), llm_chain=LLMChain(verbose=False, prompt=PromptTemplate(input_variables=['dialect', 'query'], input_types={}, partial_variables={}, template='\\n{query}\\nDouble check the {dialect} query above for common mistakes, including:\\n- Using NOT IN with NULL values\\n- Using UNION when UNION ALL should have been used\\n- Using BETWEEN for exclusive ranges\\n- Data type mismatch in predicates\\n- Properly quoting identifiers\\n- Using the correct number of arguments for functions\\n- Casting to the correct data type\\n- Using the proper columns for joins\\n\\nIf there are any of the above mistakes, rewrite the query. If there are no mistakes, just reproduce the original query.\\n\\nOutput the final SQL query only.\\n\\nSQL Query: '), llm=ChatGroq(client=<groq.resources.chat.completions.Completions object at 0x0000012753A38440>, async_client=<groq.resources.chat.completions.AsyncCompletions object at 0x00000127562F06E0>, model_name='llama3-70b-8192', model_kwargs={}, groq_api_key=SecretStr('**********')), output_parser=StrOutputParser(), llm_kwargs={}))]"
      ]
     },
     "execution_count": 44,
     "metadata": {},
     "output_type": "execute_result"
    }
   ],
   "source": [
    "toolkit.get_tools()"
   ]
  },
  {
   "cell_type": "code",
   "execution_count": 46,
   "id": "75b23df2",
   "metadata": {},
   "outputs": [
    {
     "name": "stdout",
     "output_type": "stream",
     "text": [
      "sql_db_query\n",
      "sql_db_schema\n",
      "sql_db_list_tables\n",
      "sql_db_query_checker\n"
     ]
    }
   ],
   "source": [
    "for tool in toolkit.get_tools():\n",
    "    print(tool.name)"
   ]
  },
  {
   "cell_type": "code",
   "execution_count": 47,
   "id": "3de3ac31",
   "metadata": {},
   "outputs": [],
   "source": [
    "list_tables_tools = next((tool for tool in toolkit.get_tools() if tool.name == \"sql_db_list_tables\"), None)"
   ]
  },
  {
   "cell_type": "code",
   "execution_count": 48,
   "id": "b1e3c168",
   "metadata": {},
   "outputs": [
    {
     "data": {
      "text/plain": [
       "ListSQLDatabaseTool(db=<langchain_community.utilities.sql_database.SQLDatabase object at 0x000001275345E720>)"
      ]
     },
     "execution_count": 48,
     "metadata": {},
     "output_type": "execute_result"
    }
   ],
   "source": [
    "list_tables_tools"
   ]
  },
  {
   "cell_type": "code",
   "execution_count": 49,
   "id": "c901b871",
   "metadata": {},
   "outputs": [],
   "source": [
    "get_schema_tool = next((tool for tool in toolkit.get_tools() if tool.name == \"sql_db_schema\"), None)"
   ]
  },
  {
   "cell_type": "code",
   "execution_count": 50,
   "id": "0eb2fed7",
   "metadata": {},
   "outputs": [
    {
     "data": {
      "text/plain": [
       "InfoSQLDatabaseTool(description='Input to this tool is a comma-separated list of tables, output is the schema and sample rows for those tables. Be sure that the tables actually exist by calling sql_db_list_tables first! Example Input: table1, table2, table3', db=<langchain_community.utilities.sql_database.SQLDatabase object at 0x000001275345E720>)"
      ]
     },
     "execution_count": 50,
     "metadata": {},
     "output_type": "execute_result"
    }
   ],
   "source": [
    "get_schema_tool"
   ]
  },
  {
   "cell_type": "code",
   "execution_count": 54,
   "id": "6826dcfd",
   "metadata": {},
   "outputs": [
    {
     "data": {
      "text/plain": [
       "'customers, employee, orders'"
      ]
     },
     "execution_count": 54,
     "metadata": {},
     "output_type": "execute_result"
    }
   ],
   "source": [
    "list_tables_tools.invoke({})"
   ]
  },
  {
   "cell_type": "code",
   "execution_count": null,
   "id": "388a1e88",
   "metadata": {},
   "outputs": [],
   "source": []
  },
  {
   "cell_type": "code",
   "execution_count": 66,
   "id": "ad15ec4d",
   "metadata": {},
   "outputs": [
    {
     "name": "stdout",
     "output_type": "stream",
     "text": [
      "\n",
      "CREATE TABLE orders (\n",
      "\torder_id INTEGER, \n",
      "\tcustomer_id INTEGER NOT NULL, \n",
      "\torder_date TEXT NOT NULL, \n",
      "\tamount REAL NOT NULL, \n",
      "\tPRIMARY KEY (order_id), \n",
      "\tFOREIGN KEY(customer_id) REFERENCES customers (customer_id)\n",
      ")\n",
      "\n",
      "/*\n",
      "3 rows from orders table:\n",
      "order_id\tcustomer_id\torder_date\tamount\n",
      "1\t1\t2023-01-01\t100.5\n",
      "2\t2\t2023-02-15\t200.75\n",
      "3\t3\t2023-03-10\t150.0\n",
      "*/\n"
     ]
    }
   ],
   "source": [
    "print(get_schema_tool.invoke(\"orders\"))"
   ]
  },
  {
   "cell_type": "code",
   "execution_count": 75,
   "id": "87b3d80c",
   "metadata": {},
   "outputs": [],
   "source": [
    "from langchain_core.tools import tool\n",
    "\n",
    "@tool\n",
    "def db_query_tool(query: str) -> str:\n",
    "    \"\"\"Execute a SQL query on the database and return the result.\n",
    "    If the query fails, return an error message.\n",
    "    In case of error message , user will rewrite the query and try again.\"\"\"\n",
    "    result = db.run_no_throw(query)\n",
    "    if not result:\n",
    "        return \"Error executing query. Please check the query syntax and try again.\"\n",
    "    return result"
   ]
  },
  {
   "cell_type": "code",
   "execution_count": 77,
   "id": "092d2ad9",
   "metadata": {},
   "outputs": [
    {
     "name": "stdout",
     "output_type": "stream",
     "text": [
      "[(2, 2, '2023-02-15', 200.75), (4, 4, '2023-04-20', 300.25)]\n",
      "[(2, 'mithun', 'm', 'mithun.m@example.com', '987-654-3210', 75000.0, '2019-03-22'), (3, 'darshan', 'naik', 'darshan.n@example.com', '555-123-4567', 80000.0, '2021-07-30')]\n"
     ]
    }
   ],
   "source": [
    "print(db_query_tool.invoke(\"SELECT * FROM orders WHERE amount > 200\"))\n",
    "print(db_query_tool.invoke(\"SELECT * FROM employee WHERE salary > 60000\"))"
   ]
  },
  {
   "cell_type": "code",
   "execution_count": null,
   "id": "1759c14b",
   "metadata": {},
   "outputs": [],
   "source": []
  }
 ],
 "metadata": {
  "kernelspec": {
   "display_name": "Python 3",
   "language": "python",
   "name": "python3"
  },
  "language_info": {
   "codemirror_mode": {
    "name": "ipython",
    "version": 3
   },
   "file_extension": ".py",
   "mimetype": "text/x-python",
   "name": "python",
   "nbconvert_exporter": "python",
   "pygments_lexer": "ipython3",
   "version": "3.12.9"
  }
 },
 "nbformat": 4,
 "nbformat_minor": 5
}
