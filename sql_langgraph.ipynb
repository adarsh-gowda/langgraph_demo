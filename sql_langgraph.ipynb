{
 "cells": [
  {
   "cell_type": "code",
   "execution_count": 1,
   "id": "d601b469",
   "metadata": {},
   "outputs": [],
   "source": [
    "import sqlite3"
   ]
  },
  {
   "cell_type": "code",
   "execution_count": 2,
   "id": "846479c6",
   "metadata": {},
   "outputs": [],
   "source": [
    "connection=sqlite3.connect(\"mydb.db\")"
   ]
  },
  {
   "cell_type": "code",
   "execution_count": 3,
   "id": "e61086d3",
   "metadata": {},
   "outputs": [
    {
     "data": {
      "text/plain": [
       "<sqlite3.Connection at 0x127526aeb60>"
      ]
     },
     "execution_count": 3,
     "metadata": {},
     "output_type": "execute_result"
    }
   ],
   "source": [
    "connection"
   ]
  },
  {
   "cell_type": "code",
   "execution_count": 4,
   "id": "f1794e21",
   "metadata": {},
   "outputs": [],
   "source": [
    "table_create_query = \"\"\"\n",
    "create table if not exists employee (\n",
    "employee_id integer primary key autoincrement,\n",
    "first_name text not null,\n",
    "last_name text not null,\n",
    "email text not null unique,\n",
    "phone text not null unique,\n",
    "salary real not null,\n",
    "hire_date text not null\n",
    ")\n",
    "\"\"\""
   ]
  },
  {
   "cell_type": "code",
   "execution_count": 5,
   "id": "acd0b9b5",
   "metadata": {},
   "outputs": [],
   "source": [
    "table_create_query2 = \"\"\"\n",
    "create table if not exists customers (\n",
    "customer_id integer primary key autoincrement,\n",
    "first_name text not null,\n",
    "last_name text not null,\n",
    "email text not null unique,\n",
    "phone text not null unique\n",
    ")\n",
    "\"\"\""
   ]
  },
  {
   "cell_type": "code",
   "execution_count": 6,
   "id": "1d0d8b12",
   "metadata": {},
   "outputs": [],
   "source": [
    "table_create_query3 = \"\"\"\n",
    "create table if not exists orders (\n",
    "order_id integer primary key autoincrement,\n",
    "customer_id integer not null,\n",
    "order_date text not null,\n",
    "amount real not null,\n",
    "foreign key (customer_id) references customers(customer_id)\n",
    ")\n",
    "\"\"\""
   ]
  },
  {
   "cell_type": "code",
   "execution_count": 7,
   "id": "4eaaeea1",
   "metadata": {},
   "outputs": [],
   "source": [
    "cursor=connection.cursor()"
   ]
  },
  {
   "cell_type": "code",
   "execution_count": 8,
   "id": "562025f6",
   "metadata": {},
   "outputs": [
    {
     "data": {
      "text/plain": [
       "<sqlite3.Cursor at 0x127528cc940>"
      ]
     },
     "execution_count": 8,
     "metadata": {},
     "output_type": "execute_result"
    }
   ],
   "source": [
    "cursor.execute(table_create_query)\n",
    "cursor.execute(table_create_query2)\n",
    "cursor.execute(table_create_query3)"
   ]
  },
  {
   "cell_type": "code",
   "execution_count": 9,
   "id": "84fd7af3",
   "metadata": {},
   "outputs": [],
   "source": [
    "insert_employee_query = \"\"\"\n",
    "insert into employee (first_name, last_name, email, phone, salary, hire_date) values (?, ?, ?, ?, ?, ?)\n",
    "\"\"\"\n",
    "\n",
    "insert_customer_query = \"\"\"\n",
    "insert into customers (first_name, last_name, email, phone) values (?, ?, ?, ?)\n",
    "\"\"\"\n",
    "insert_order_query = \"\"\"\n",
    "insert into orders (order_id, customer_id, order_date, amount) values (?, ?, ?, ?)\n",
    "\"\"\""
   ]
  },
  {
   "cell_type": "code",
   "execution_count": 10,
   "id": "8cba33b7",
   "metadata": {},
   "outputs": [],
   "source": [
    "employee_data = [\n",
    "    ('adarsh', 'cv', 'adarsh.cv@example.com', '123-456-7890', 60000, '2020-01-15'),\n",
    "    ('mithun', 'm', 'mithun.m@example.com', '987-654-3210', 75000, '2019-03-22'),\n",
    "    ('darshan', 'naik', 'darshan.n@example.com', '555-123-4567', 80000, '2021-07-30'),\n",
    "    ('kumar', 'gowda', 'kumar.g@example.com', '444-987-6543', 50000, '2022-11-05')\n",
    "]\n",
    "\n",
    "customer_data = [\n",
    "    ('JOHN', 'DOE', 'john.doe@example.com', '123-456-7890'),\n",
    "    ('JANE', 'SMITH', 'jane.smith@example.com', '987-654-3210'),\n",
    "    ('ALICE', 'JOHNSON', 'alice.johnson@example.com', '555-123-4567'),\n",
    "    ('BOB', 'BROWN', 'bob.brown@example.com', '444-987-6543')\n",
    "]\n",
    "order_data = [\n",
    "    (1, 1, '2023-01-01', 100.50),\n",
    "    (2, 2, '2023-02-15', 200.75),\n",
    "    (3, 3, '2023-03-10', 150.00),\n",
    "    (4, 4, '2023-04-20', 300.25)\n",
    "]"
   ]
  },
  {
   "cell_type": "code",
   "execution_count": 11,
   "id": "5f9f5f8d",
   "metadata": {},
   "outputs": [
    {
     "data": {
      "text/plain": [
       "<sqlite3.Cursor at 0x127528cc940>"
      ]
     },
     "execution_count": 11,
     "metadata": {},
     "output_type": "execute_result"
    }
   ],
   "source": [
    "cursor.executemany(insert_employee_query, employee_data)\n",
    "cursor.executemany(insert_customer_query, customer_data)\n",
    "cursor.executemany(insert_order_query, order_data)"
   ]
  },
  {
   "cell_type": "code",
   "execution_count": 12,
   "id": "f94da2ca",
   "metadata": {},
   "outputs": [],
   "source": [
    "connection.commit()"
   ]
  },
  {
   "cell_type": "code",
   "execution_count": 26,
   "id": "f4f77332",
   "metadata": {},
   "outputs": [
    {
     "name": "stdout",
     "output_type": "stream",
     "text": [
      "(1, 1, '2023-01-01', 100.5)\n",
      "(2, 2, '2023-02-15', 200.75)\n",
      "(3, 3, '2023-03-10', 150.0)\n",
      "(4, 4, '2023-04-20', 300.25)\n"
     ]
    }
   ],
   "source": [
    "cursor.execute(\"select * from orders;\")\n",
    "for row in cursor.fetchall():\n",
    "    print(row)"
   ]
  },
  {
   "cell_type": "code",
   "execution_count": null,
   "id": "f7895309",
   "metadata": {},
   "outputs": [],
   "source": []
  },
  {
   "cell_type": "code",
   "execution_count": null,
   "id": "c5cdc02a",
   "metadata": {},
   "outputs": [],
   "source": []
  }
 ],
 "metadata": {
  "kernelspec": {
   "display_name": "Python 3",
   "language": "python",
   "name": "python3"
  },
  "language_info": {
   "codemirror_mode": {
    "name": "ipython",
    "version": 3
   },
   "file_extension": ".py",
   "mimetype": "text/x-python",
   "name": "python",
   "nbconvert_exporter": "python",
   "pygments_lexer": "ipython3",
   "version": "3.12.9"
  }
 },
 "nbformat": 4,
 "nbformat_minor": 5
}
