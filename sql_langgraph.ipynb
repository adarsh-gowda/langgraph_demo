{
 "cells": [
  {
   "cell_type": "code",
   "execution_count": 1,
   "id": "d601b469",
   "metadata": {},
   "outputs": [],
   "source": [
    "import sqlite3"
   ]
  },
  {
   "cell_type": "code",
   "execution_count": 2,
   "id": "846479c6",
   "metadata": {},
   "outputs": [],
   "source": [
    "connection=sqlite3.connect(\"mydb.db\")"
   ]
  },
  {
   "cell_type": "code",
   "execution_count": 3,
   "id": "e61086d3",
   "metadata": {},
   "outputs": [
    {
     "data": {
      "text/plain": [
       "<sqlite3.Connection at 0x2462874ed40>"
      ]
     },
     "execution_count": 3,
     "metadata": {},
     "output_type": "execute_result"
    }
   ],
   "source": [
    "connection"
   ]
  },
  {
   "cell_type": "code",
   "execution_count": 4,
   "id": "f1794e21",
   "metadata": {},
   "outputs": [],
   "source": [
    "table_create_query = \"\"\"\n",
    "create table if not exists employee (\n",
    "employee_id integer primary key autoincrement,\n",
    "first_name text not null,\n",
    "last_name text not null,\n",
    "email text not null unique,\n",
    "phone text not null unique,\n",
    "salary real not null,\n",
    "hire_date text not null\n",
    ")\n",
    "\"\"\""
   ]
  },
  {
   "cell_type": "code",
   "execution_count": 5,
   "id": "acd0b9b5",
   "metadata": {},
   "outputs": [],
   "source": [
    "table_create_query2 = \"\"\"\n",
    "create table if not exists customers (\n",
    "customer_id integer primary key autoincrement,\n",
    "first_name text not null,\n",
    "last_name text not null,\n",
    "email text not null unique,\n",
    "phone text not null unique\n",
    ")\n",
    "\"\"\""
   ]
  },
  {
   "cell_type": "code",
   "execution_count": 6,
   "id": "1d0d8b12",
   "metadata": {},
   "outputs": [],
   "source": [
    "table_create_query3 = \"\"\"\n",
    "create table if not exists orders (\n",
    "order_id integer primary key autoincrement,\n",
    "customer_id integer not null,\n",
    "order_date text not null,\n",
    "amount real not null,\n",
    "foreign key (customer_id) references customers(customer_id)\n",
    ")\n",
    "\"\"\""
   ]
  },
  {
   "cell_type": "code",
   "execution_count": 7,
   "id": "4eaaeea1",
   "metadata": {},
   "outputs": [],
   "source": [
    "cursor=connection.cursor()"
   ]
  },
  {
   "cell_type": "code",
   "execution_count": 8,
   "id": "562025f6",
   "metadata": {},
   "outputs": [
    {
     "data": {
      "text/plain": [
       "<sqlite3.Cursor at 0x2462896dcc0>"
      ]
     },
     "execution_count": 8,
     "metadata": {},
     "output_type": "execute_result"
    }
   ],
   "source": [
    "cursor.execute(table_create_query)\n",
    "cursor.execute(table_create_query2)\n",
    "cursor.execute(table_create_query3)"
   ]
  },
  {
   "cell_type": "code",
   "execution_count": 9,
   "id": "84fd7af3",
   "metadata": {},
   "outputs": [],
   "source": [
    "insert_employee_query = \"\"\"\n",
    "insert into employee (first_name, last_name, email, phone, salary, hire_date) values (?, ?, ?, ?, ?, ?)\n",
    "\"\"\"\n",
    "\n",
    "insert_customer_query = \"\"\"\n",
    "insert into customers (first_name, last_name, email, phone) values (?, ?, ?, ?)\n",
    "\"\"\"\n",
    "insert_order_query = \"\"\"\n",
    "insert into orders (order_id, customer_id, order_date, amount) values (?, ?, ?, ?)\n",
    "\"\"\""
   ]
  },
  {
   "cell_type": "code",
   "execution_count": 10,
   "id": "8cba33b7",
   "metadata": {},
   "outputs": [],
   "source": [
    "employee_data = [\n",
    "    ('adarsh', 'cv', 'adarsh.cv@example.com', '123-456-7890', 60000, '2020-01-15'),\n",
    "    ('mithun', 'm', 'mithun.m@example.com', '987-654-3210', 75000, '2019-03-22'),\n",
    "    ('darshan', 'naik', 'darshan.n@example.com', '555-123-4567', 80000, '2021-07-30'),\n",
    "    ('kumar', 'gowda', 'kumar.g@example.com', '444-987-6543', 50000, '2022-11-05')\n",
    "]\n",
    "\n",
    "customer_data = [\n",
    "    ('JOHN', 'DOE', 'john.doe@example.com', '123-456-7890'),\n",
    "    ('JANE', 'SMITH', 'jane.smith@example.com', '987-654-3210'),\n",
    "    ('ALICE', 'JOHNSON', 'alice.johnson@example.com', '555-123-4567'),\n",
    "    ('BOB', 'BROWN', 'bob.brown@example.com', '444-987-6543')\n",
    "]\n",
    "order_data = [\n",
    "    (1, 1, '2023-01-01', 100.50),\n",
    "    (2, 2, '2023-02-15', 200.75),\n",
    "    (3, 3, '2023-03-10', 150.00),\n",
    "    (4, 4, '2023-04-20', 300.25)\n",
    "]"
   ]
  },
  {
   "cell_type": "code",
   "execution_count": 11,
   "id": "5f9f5f8d",
   "metadata": {},
   "outputs": [
    {
     "data": {
      "text/plain": [
       "<sqlite3.Cursor at 0x2462896dcc0>"
      ]
     },
     "execution_count": 11,
     "metadata": {},
     "output_type": "execute_result"
    }
   ],
   "source": [
    "cursor.executemany(insert_employee_query, employee_data)\n",
    "cursor.executemany(insert_customer_query, customer_data)\n",
    "cursor.executemany(insert_order_query, order_data)"
   ]
  },
  {
   "cell_type": "code",
   "execution_count": 12,
   "id": "f94da2ca",
   "metadata": {},
   "outputs": [],
   "source": [
    "connection.commit()"
   ]
  },
  {
   "cell_type": "code",
   "execution_count": 13,
   "id": "f4f77332",
   "metadata": {},
   "outputs": [
    {
     "name": "stdout",
     "output_type": "stream",
     "text": [
      "(1, 1, '2023-01-01', 100.5)\n",
      "(2, 2, '2023-02-15', 200.75)\n",
      "(3, 3, '2023-03-10', 150.0)\n",
      "(4, 4, '2023-04-20', 300.25)\n"
     ]
    }
   ],
   "source": [
    "cursor.execute(\"select * from orders;\")\n",
    "for row in cursor.fetchall():\n",
    "    print(row)"
   ]
  },
  {
   "cell_type": "code",
   "execution_count": 14,
   "id": "f7895309",
   "metadata": {},
   "outputs": [],
   "source": [
    "from langchain_community.utilities import SQLDatabase\n",
    "db = SQLDatabase.from_uri(\"sqlite:///mydb.db\")"
   ]
  },
  {
   "cell_type": "code",
   "execution_count": 15,
   "id": "c5cdc02a",
   "metadata": {},
   "outputs": [
    {
     "data": {
      "text/plain": [
       "<langchain_community.utilities.sql_database.SQLDatabase at 0x246294d64e0>"
      ]
     },
     "execution_count": 15,
     "metadata": {},
     "output_type": "execute_result"
    }
   ],
   "source": [
    "db"
   ]
  },
  {
   "cell_type": "code",
   "execution_count": 16,
   "id": "5c3f277b",
   "metadata": {},
   "outputs": [
    {
     "data": {
      "text/plain": [
       "'sqlite'"
      ]
     },
     "execution_count": 16,
     "metadata": {},
     "output_type": "execute_result"
    }
   ],
   "source": [
    "db.dialect"
   ]
  },
  {
   "cell_type": "code",
   "execution_count": 17,
   "id": "11cdbee9",
   "metadata": {},
   "outputs": [
    {
     "data": {
      "text/plain": [
       "['customers', 'employee', 'orders']"
      ]
     },
     "execution_count": 17,
     "metadata": {},
     "output_type": "execute_result"
    }
   ],
   "source": [
    "db.get_usable_table_names()"
   ]
  },
  {
   "cell_type": "code",
   "execution_count": 18,
   "id": "1cc78a19",
   "metadata": {},
   "outputs": [],
   "source": [
    "from langchain_groq import ChatGroq\n",
    "llm = ChatGroq(model=\"llama3-70b-8192\")"
   ]
  },
  {
   "cell_type": "code",
   "execution_count": 19,
   "id": "58624847",
   "metadata": {},
   "outputs": [
    {
     "data": {
      "text/plain": [
       "AIMessage(content=\"I'm just a language model, I don't have emotions or feelings. I'm just here to provide information and assist with your questions to the best of my abilities.\", additional_kwargs={}, response_metadata={'token_usage': {'completion_tokens': 35, 'prompt_tokens': 14, 'total_tokens': 49, 'completion_time': 0.111826681, 'prompt_time': 0.000180847, 'queue_time': 0.054225272000000005, 'total_time': 0.112007528}, 'model_name': 'llama3-70b-8192', 'system_fingerprint': 'fp_dd4ae1c591', 'finish_reason': 'stop', 'logprobs': None}, id='run--4b884d61-183b-4ba2-8408-26cd5bf7c995-0', usage_metadata={'input_tokens': 14, 'output_tokens': 35, 'total_tokens': 49})"
      ]
     },
     "execution_count": 19,
     "metadata": {},
     "output_type": "execute_result"
    }
   ],
   "source": [
    "llm.invoke(\"How are YOU?\")"
   ]
  },
  {
   "cell_type": "code",
   "execution_count": 20,
   "id": "61a6f4cc",
   "metadata": {},
   "outputs": [],
   "source": [
    "from langchain_community.agent_toolkits import SQLDatabaseToolkit"
   ]
  },
  {
   "cell_type": "code",
   "execution_count": 21,
   "id": "e1e959e9",
   "metadata": {},
   "outputs": [],
   "source": [
    "toolkit=SQLDatabaseToolkit(db=db, llm=llm)"
   ]
  },
  {
   "cell_type": "code",
   "execution_count": 22,
   "id": "8a151e66",
   "metadata": {},
   "outputs": [
    {
     "data": {
      "text/plain": [
       "[QuerySQLDatabaseTool(description=\"Input to this tool is a detailed and correct SQL query, output is a result from the database. If the query is not correct, an error message will be returned. If an error is returned, rewrite the query, check the query, and try again. If you encounter an issue with Unknown column 'xxxx' in 'field list', use sql_db_schema to query the correct table fields.\", db=<langchain_community.utilities.sql_database.SQLDatabase object at 0x00000246294D64E0>),\n",
       " InfoSQLDatabaseTool(description='Input to this tool is a comma-separated list of tables, output is the schema and sample rows for those tables. Be sure that the tables actually exist by calling sql_db_list_tables first! Example Input: table1, table2, table3', db=<langchain_community.utilities.sql_database.SQLDatabase object at 0x00000246294D64E0>),\n",
       " ListSQLDatabaseTool(db=<langchain_community.utilities.sql_database.SQLDatabase object at 0x00000246294D64E0>),\n",
       " QuerySQLCheckerTool(description='Use this tool to double check if your query is correct before executing it. Always use this tool before executing a query with sql_db_query!', db=<langchain_community.utilities.sql_database.SQLDatabase object at 0x00000246294D64E0>, llm=ChatGroq(client=<groq.resources.chat.completions.Completions object at 0x000002462A29B8C0>, async_client=<groq.resources.chat.completions.AsyncCompletions object at 0x000002462A3509B0>, model_name='llama3-70b-8192', model_kwargs={}, groq_api_key=SecretStr('**********')), llm_chain=LLMChain(verbose=False, prompt=PromptTemplate(input_variables=['dialect', 'query'], input_types={}, partial_variables={}, template='\\n{query}\\nDouble check the {dialect} query above for common mistakes, including:\\n- Using NOT IN with NULL values\\n- Using UNION when UNION ALL should have been used\\n- Using BETWEEN for exclusive ranges\\n- Data type mismatch in predicates\\n- Properly quoting identifiers\\n- Using the correct number of arguments for functions\\n- Casting to the correct data type\\n- Using the proper columns for joins\\n\\nIf there are any of the above mistakes, rewrite the query. If there are no mistakes, just reproduce the original query.\\n\\nOutput the final SQL query only.\\n\\nSQL Query: '), llm=ChatGroq(client=<groq.resources.chat.completions.Completions object at 0x000002462A29B8C0>, async_client=<groq.resources.chat.completions.AsyncCompletions object at 0x000002462A3509B0>, model_name='llama3-70b-8192', model_kwargs={}, groq_api_key=SecretStr('**********')), output_parser=StrOutputParser(), llm_kwargs={}))]"
      ]
     },
     "execution_count": 22,
     "metadata": {},
     "output_type": "execute_result"
    }
   ],
   "source": [
    "toolkit.get_tools()"
   ]
  },
  {
   "cell_type": "code",
   "execution_count": 23,
   "id": "75b23df2",
   "metadata": {},
   "outputs": [
    {
     "name": "stdout",
     "output_type": "stream",
     "text": [
      "sql_db_query\n",
      "sql_db_schema\n",
      "sql_db_list_tables\n",
      "sql_db_query_checker\n"
     ]
    }
   ],
   "source": [
    "for tool in toolkit.get_tools():\n",
    "    print(tool.name)"
   ]
  },
  {
   "cell_type": "code",
   "execution_count": 24,
   "id": "3de3ac31",
   "metadata": {},
   "outputs": [],
   "source": [
    "list_tables_tools = next((tool for tool in toolkit.get_tools() if tool.name == \"sql_db_list_tables\"), None)"
   ]
  },
  {
   "cell_type": "code",
   "execution_count": 25,
   "id": "b1e3c168",
   "metadata": {},
   "outputs": [
    {
     "data": {
      "text/plain": [
       "ListSQLDatabaseTool(db=<langchain_community.utilities.sql_database.SQLDatabase object at 0x00000246294D64E0>)"
      ]
     },
     "execution_count": 25,
     "metadata": {},
     "output_type": "execute_result"
    }
   ],
   "source": [
    "list_tables_tools"
   ]
  },
  {
   "cell_type": "code",
   "execution_count": 26,
   "id": "c901b871",
   "metadata": {},
   "outputs": [],
   "source": [
    "get_schema_tool = next((tool for tool in toolkit.get_tools() if tool.name == \"sql_db_schema\"), None)"
   ]
  },
  {
   "cell_type": "code",
   "execution_count": 27,
   "id": "0eb2fed7",
   "metadata": {},
   "outputs": [
    {
     "data": {
      "text/plain": [
       "InfoSQLDatabaseTool(description='Input to this tool is a comma-separated list of tables, output is the schema and sample rows for those tables. Be sure that the tables actually exist by calling sql_db_list_tables first! Example Input: table1, table2, table3', db=<langchain_community.utilities.sql_database.SQLDatabase object at 0x00000246294D64E0>)"
      ]
     },
     "execution_count": 27,
     "metadata": {},
     "output_type": "execute_result"
    }
   ],
   "source": [
    "get_schema_tool"
   ]
  },
  {
   "cell_type": "code",
   "execution_count": 28,
   "id": "6826dcfd",
   "metadata": {},
   "outputs": [
    {
     "data": {
      "text/plain": [
       "'customers, employee, orders'"
      ]
     },
     "execution_count": 28,
     "metadata": {},
     "output_type": "execute_result"
    }
   ],
   "source": [
    "list_tables_tools.invoke({})"
   ]
  },
  {
   "cell_type": "code",
   "execution_count": null,
   "id": "388a1e88",
   "metadata": {},
   "outputs": [],
   "source": []
  },
  {
   "cell_type": "code",
   "execution_count": 29,
   "id": "ad15ec4d",
   "metadata": {},
   "outputs": [
    {
     "name": "stdout",
     "output_type": "stream",
     "text": [
      "\n",
      "CREATE TABLE orders (\n",
      "\torder_id INTEGER, \n",
      "\tcustomer_id INTEGER NOT NULL, \n",
      "\torder_date TEXT NOT NULL, \n",
      "\tamount REAL NOT NULL, \n",
      "\tPRIMARY KEY (order_id), \n",
      "\tFOREIGN KEY(customer_id) REFERENCES customers (customer_id)\n",
      ")\n",
      "\n",
      "/*\n",
      "3 rows from orders table:\n",
      "order_id\tcustomer_id\torder_date\tamount\n",
      "1\t1\t2023-01-01\t100.5\n",
      "2\t2\t2023-02-15\t200.75\n",
      "3\t3\t2023-03-10\t150.0\n",
      "*/\n"
     ]
    }
   ],
   "source": [
    "print(get_schema_tool.invoke(\"orders\"))"
   ]
  },
  {
   "cell_type": "code",
   "execution_count": 30,
   "id": "87b3d80c",
   "metadata": {},
   "outputs": [],
   "source": [
    "from langchain_core.tools import tool\n",
    "\n",
    "@tool\n",
    "def db_query_tool(query: str) -> str:\n",
    "    \"\"\"Execute a SQL query on the database and return the result.\n",
    "    If the query fails, return an error message.\n",
    "    In case of error message , user will rewrite the query and try again.\"\"\"\n",
    "    result = db.run_no_throw(query)\n",
    "    if not result:\n",
    "        return \"Error executing query. Please check the query syntax and try again.\"\n",
    "    return result"
   ]
  },
  {
   "cell_type": "code",
   "execution_count": 31,
   "id": "092d2ad9",
   "metadata": {},
   "outputs": [
    {
     "name": "stdout",
     "output_type": "stream",
     "text": [
      "[(2, 2, '2023-02-15', 200.75), (4, 4, '2023-04-20', 300.25)]\n",
      "[(2, 'mithun', 'm', 'mithun.m@example.com', '987-654-3210', 75000.0, '2019-03-22'), (3, 'darshan', 'naik', 'darshan.n@example.com', '555-123-4567', 80000.0, '2021-07-30')]\n"
     ]
    }
   ],
   "source": [
    "print(db_query_tool.invoke(\"SELECT * FROM orders WHERE amount > 200\"))\n",
    "print(db_query_tool.invoke(\"SELECT * FROM employee WHERE salary > 60000\"))"
   ]
  },
  {
   "cell_type": "markdown",
   "id": "622da625",
   "metadata": {},
   "source": [
    "## Query Check\n",
    "\n",
    "## Query Generation"
   ]
  },
  {
   "cell_type": "code",
   "execution_count": 32,
   "id": "1759c14b",
   "metadata": {},
   "outputs": [],
   "source": [
    "import warnings\n",
    "# Suppress all warnings\n",
    "warnings.filterwarnings(\"ignore\")"
   ]
  },
  {
   "cell_type": "code",
   "execution_count": 33,
   "id": "aa72cb2e",
   "metadata": {},
   "outputs": [],
   "source": [
    "from typing import Annotated, Literal\n",
    "from langchain_core.messages import AIMessage\n",
    "from langchain_core.pydantic_v1 import BaseModel, Field\n",
    "from typing_extensions import TypedDict\n",
    "from langgraph.graph import END, StateGraph, START\n",
    "from langgraph.graph.message import AnyMessage, add_messages\n",
    "from typing import Any\n",
    "from langchain_core.messages import ToolMessage\n",
    "from langchain_core.runnables import RunnableLambda,RunnableWithFallbacks\n",
    "from langgraph.prebuilt import ToolNode\n"
   ]
  },
  {
   "cell_type": "code",
   "execution_count": 34,
   "id": "2672c620",
   "metadata": {},
   "outputs": [],
   "source": [
    "from langchain_core.prompts import ChatPromptTemplate\n",
    "\n",
    "\n",
    "query_check_system=\"\"\"You are a SQL expert with a strong attention to detail.\n",
    "Double check the SQLite query for common mistakes, including:\n",
    "-Using NOT IN with null values\n",
    "-Using union when union all should have been used\n",
    "-using between for exclusive ranges\n",
    "-Data type mismatch in predicates\n",
    "-Properly quoting identifiers\n",
    "-Using the correct number of arguments for functions\n",
    "-Casting to the correct data type\n",
    "-Using the proper columns for joins\n",
    "\n",
    "If there are any of the  above mistakes, rewrite the query to fix the mistakes.If the query is correct, return the query as is.\n",
    "\n",
    "You will call the appropriate tool to execute the query after running this check.\n",
    "\"\"\"\n",
    "\n",
    "query_check_prompt = ChatPromptTemplate.from_messages([(\"system\", query_check_system),(\"placeholder\", \"{messages}\")])\n",
    "\n",
    "query_check = query_check_prompt | llm.bind_tools([db_query_tool])\n",
    "\n"
   ]
  },
  {
   "cell_type": "code",
   "execution_count": 35,
   "id": "dc87e90e",
   "metadata": {},
   "outputs": [
    {
     "data": {
      "text/plain": [
       "AIMessage(content='', additional_kwargs={'tool_calls': [{'id': 'call_feet', 'function': {'arguments': '{\"query\":\"SELECT * FROM orders WHERE amount \\\\u003e 200\"}', 'name': 'db_query_tool'}, 'type': 'function'}]}, response_metadata={'token_usage': {'completion_tokens': 75, 'prompt_tokens': 2123, 'total_tokens': 2198, 'completion_time': 0.219412453, 'prompt_time': 0.077264311, 'queue_time': -0.32817723099999996, 'total_time': 0.296676764}, 'model_name': 'llama3-70b-8192', 'system_fingerprint': 'fp_dd4ae1c591', 'finish_reason': 'tool_calls', 'logprobs': None}, id='run--24f3c41e-d8d6-460e-8b11-92474d285e48-0', tool_calls=[{'name': 'db_query_tool', 'args': {'query': 'SELECT * FROM orders WHERE amount > 200'}, 'id': 'call_feet', 'type': 'tool_call'}], usage_metadata={'input_tokens': 2123, 'output_tokens': 75, 'total_tokens': 2198})"
      ]
     },
     "execution_count": 35,
     "metadata": {},
     "output_type": "execute_result"
    }
   ],
   "source": [
    "query_check.invoke({\"messages\":[('user', 'SELECT * FROM orders WHERE amount > 200')]})"
   ]
  },
  {
   "cell_type": "code",
   "execution_count": 36,
   "id": "566316dc",
   "metadata": {},
   "outputs": [],
   "source": [
    "class SubmitFinalAnswer(BaseModel):\n",
    "    \"\"\"Submit the final answer to the user based on the query result.\"\"\"\n",
    "    final_answer: str = Field(description=\"The final answer to submit to the user.\")\n",
    "\n",
    "\n",
    "# Add a node for a model to generate a query based on the question and schema\n",
    "query_gen_system = \"\"\"You are a SQL expert with a strong attention to detail.\n",
    "\n",
    "Given an input question, output a syntactically correct SQLite query that answers the question.Then look at the results of the query and return the final answer to the user.\n",
    "\n",
    "Do not call any tool besides SubmitFinalAnswer to submit the final answer.\n",
    "\n",
    "when generating the query:\n",
    "\n",
    "Output the SQL query that answers the input question without any tool calls.\n",
    "\n",
    "Unless the user specifies a specific number of examples they with to obtain , always limit your query to at most results.\n",
    "You can order the results by a relevant column to return the most intresting examples in the database.\n",
    "Never query for all the columns from specific table, only ask for the columns that are relevant to the question.\n",
    "\n",
    "If you get an error while executing the query, rewrite the query to fix the error and try again.\n",
    "\n",
    "If you get an empty result set, you should try to rewrite the query to get a non-empty result set.\n",
    "Never make stuff up, if you don't have enough information to answer the query... just say you don't have enough information to answer the query.\n",
    "\n",
    "If you have enough information to answer the input question,simply invoke the appropriate tool to submit the final answer to the user.\n",
    "\n",
    "Do not use any DML statements like( INSERT, UPDATE, DELETE,DROP etc.) to the database.Do not return any sql query except the answer\n",
    "\"\"\"\n",
    "\n",
    "query_gen_prompt = ChatPromptTemplate.from_messages([\n",
    "    (\"system\", query_gen_system),\n",
    "    (\"placeholder\", \"{messages}\")\n",
    "])\n",
    "\n",
    "query_gen = query_gen_prompt | llm.bind_tools([SubmitFinalAnswer])"
   ]
  },
  {
   "cell_type": "code",
   "execution_count": 37,
   "id": "bdfd19d2",
   "metadata": {},
   "outputs": [],
   "source": [
    "class State(TypedDict):\n",
    "\n",
    "    messages: Annotated[list[AnyMessage], add_messages]"
   ]
  },
  {
   "cell_type": "code",
   "execution_count": 38,
   "id": "fe65e4dd",
   "metadata": {},
   "outputs": [],
   "source": [
    "def first_tool_call(state: State) -> dict[str,list[AIMessage]]:\n",
    "    return{\"messages\": [AIMessage(content=\"\",tool_calls=[{\"name\":\"sql_db_list_tables\", \"args\":{},\"id\": \"tool-1\"}])]}\n"
   ]
  },
  {
   "cell_type": "code",
   "execution_count": 39,
   "id": "d193557f",
   "metadata": {},
   "outputs": [],
   "source": [
    "def handle_tool_error(state: State):\n",
    "    error=state.get(\"error\")\n",
    "    tool_calls=state[\"messages\"][-1].tool_calls \n",
    "    return {\n",
    "        \"messages\": [\n",
    "        ToolMessage(content=f\"Error executing tool {tool_calls[0].name}: {error}\", tool_calls=tool_calls, tool_call_id=tc[\"id\"])\n",
    "        for tc in tool_calls\n",
    "        ]\n",
    "    }\n"
   ]
  },
  {
   "cell_type": "code",
   "execution_count": 40,
   "id": "a5bddb33",
   "metadata": {},
   "outputs": [],
   "source": [
    "def create_tool_node_with_fallbacks(tools:list)-> RunnableWithFallbacks[Any,dict]:\n",
    "    return ToolNode(tools).with_fallbacks([RunnableLambda(handle_tool_error)],exception_key=\"error\")"
   ]
  },
  {
   "cell_type": "code",
   "execution_count": 51,
   "id": "1dcfaa97",
   "metadata": {},
   "outputs": [],
   "source": [
    "def model_check_query(state: State):\n",
    "    return {\"message\":[query_check.invoke({\"messages\":[ state[\"messages\"][-1]]})]}\n"
   ]
  },
  {
   "cell_type": "code",
   "execution_count": 52,
   "id": "ddf865b3",
   "metadata": {},
   "outputs": [],
   "source": [
    "def query_gen_node(state: State):\n",
    "    message = query_gen.invoke(state)\n",
    "\n",
    "    # Sometimes the LLM will hallucinate and call the wrong tool.We need to catch that and return an error message.\n",
    "    tool_messages = []\n",
    "    if message.tool_calls:\n",
    "        for tc in message.tool_calls:\n",
    "            if tc['name'] != \"SubmitFinalAnswer\":\n",
    "                tool_messages.append(ToolMessage(content=f\"Error: LLM called the wrong tool {tc['name']}.\", tool_calls=[tc], tool_call_id=tc['id']))\n",
    "    else:\n",
    "        tool_messages=[]\n",
    "    return {\n",
    "        \"messages\": [message] + tool_messages\n",
    "    }"
   ]
  },
  {
   "cell_type": "code",
   "execution_count": 53,
   "id": "18966314",
   "metadata": {},
   "outputs": [],
   "source": [
    "def should_continue(state: State):\n",
    "    messages = state[\"messages\"]\n",
    "    last_message = messages[-1] \n",
    "    if getattr(last_message, 'tool_calls', None):\n",
    "        # If the last message is a tool call, we need to check if it was successful\n",
    "        return END\n",
    "    if last_message.content.startswith(\"Error:\"):\n",
    "        return \"query_gen\"\n",
    "    else:\n",
    "        return \"correct_query\""
   ]
  },
  {
   "cell_type": "code",
   "execution_count": 54,
   "id": "71713545",
   "metadata": {},
   "outputs": [],
   "source": [
    "workflow = StateGraph(State)"
   ]
  },
  {
   "cell_type": "code",
   "execution_count": 55,
   "id": "1ec7c659",
   "metadata": {},
   "outputs": [
    {
     "data": {
      "text/plain": [
       "<langgraph.graph.state.StateGraph at 0x2462bd20170>"
      ]
     },
     "execution_count": 55,
     "metadata": {},
     "output_type": "execute_result"
    }
   ],
   "source": [
    "workflow.add_node(\"first_tool_call\",first_tool_call)\n",
    "workflow.add_node(\"list_table_tool\",create_tool_node_with_fallbacks([list_tables_tools]))\n",
    "workflow.add_node(\"get_schema_tool\",create_tool_node_with_fallbacks([get_schema_tool]))\n",
    "model_get_schema = llm.bind_tools([get_schema_tool])\n",
    "workflow.add_node(\"model_get_schema\",lambda state :{\"messages\": [model_get_schema.invoke(state[\"messages\"])]})   \n",
    "workflow.add_node(\"query_gen\", query_gen_node)\n",
    "workflow.add_node(\"correct_query\",model_check_query)\n",
    "workflow.add_node(\"Execute_query\", create_tool_node_with_fallbacks([db_query_tool]))\n"
   ]
  },
  {
   "cell_type": "code",
   "execution_count": 56,
   "id": "e83e9aae",
   "metadata": {},
   "outputs": [
    {
     "data": {
      "text/plain": [
       "<langgraph.graph.state.StateGraph at 0x2462bd20170>"
      ]
     },
     "execution_count": 56,
     "metadata": {},
     "output_type": "execute_result"
    }
   ],
   "source": [
    "workflow.add_edge(START, \"first_tool_call\")\n",
    "workflow.add_edge(\"first_tool_call\", \"list_table_tool\")\n",
    "workflow.add_edge(\"list_table_tool\", \"model_get_schema\")\n",
    "workflow.add_edge(\"model_get_schema\", \"get_schema_tool\")\n",
    "workflow.add_edge(\"get_schema_tool\", \"query_gen\")\n",
    "workflow.add_conditional_edges(\"query_gen\", should_continue,\n",
    "                                {END: END,\n",
    "                                  \"correct_query\": \"correct_query\"})\n",
    "workflow.add_edge(\"correct_query\", \"Execute_query\")\n",
    "workflow.add_edge(\"Execute_query\", \"query_gen\")\n"
   ]
  },
  {
   "cell_type": "code",
   "execution_count": 57,
   "id": "8af2dddf",
   "metadata": {},
   "outputs": [],
   "source": [
    "app = workflow.compile()"
   ]
  },
  {
   "cell_type": "code",
   "execution_count": 58,
   "id": "7d4b242e",
   "metadata": {},
   "outputs": [
    {
     "data": {
      "image/png": "[encoded data removed]",
      "text/plain": [
       "<IPython.core.display.Image object>"
      ]
     },
     "metadata": {},
     "output_type": "display_data"
    }
   ],
   "source": [
    "from IPython.display import display, Image\n",
    "from langchain_core.runnables.graph import MermaidDrawMethod\n",
    "\n",
    "display(Image(\n",
    "    app.get_graph().draw_mermaid_png(\n",
    "        draw_method=MermaidDrawMethod.API\n",
    "    )))"
   ]
  },
  {
   "cell_type": "code",
   "execution_count": 74,
   "id": "245e86d5",
   "metadata": {},
   "outputs": [],
   "source": [
    "query = {\"messages\": [('user', 'email id of all employees with salary less than 65000')]}"
   ]
  },
  {
   "cell_type": "code",
   "execution_count": 75,
   "id": "72a901bf",
   "metadata": {},
   "outputs": [],
   "source": [
    "response = app.invoke(query)"
   ]
  },
  {
   "cell_type": "code",
   "execution_count": 76,
   "id": "5a098847",
   "metadata": {},
   "outputs": [
    {
     "data": {
      "text/plain": [
       "'adarsh.cv@example.com, mithun.m@example.com'"
      ]
     },
     "execution_count": 76,
     "metadata": {},
     "output_type": "execute_result"
    }
   ],
   "source": [
    "response['messages'][-1].tool_calls[0][\"args\"][\"final_answer\"]"
   ]
  },
  {
   "cell_type": "code",
   "execution_count": null,
   "id": "4d958828",
   "metadata": {},
   "outputs": [],
   "source": []
  },
  {
   "cell_type": "code",
   "execution_count": null,
   "id": "3735daa4",
   "metadata": {},
   "outputs": [],
   "source": []
  }
 ],
 "metadata": {
  "kernelspec": {
   "display_name": "Python 3",
   "language": "python",
   "name": "python3"
  },
  "language_info": {
   "codemirror_mode": {
    "name": "ipython",
    "version": 3
   },
   "file_extension": ".py",
   "mimetype": "text/x-python",
   "name": "python",
   "nbconvert_exporter": "python",
   "pygments_lexer": "ipython3",
   "version": "3.12.9"
  }
 },
 "nbformat": 4,
 "nbformat_minor": 5
}
